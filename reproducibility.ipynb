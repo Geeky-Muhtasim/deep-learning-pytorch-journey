{
 "cells": [
  {
   "cell_type": "markdown",
   "metadata": {},
   "source": [
    "## Reproducibility (trying to take random out of random)\n",
    "\n",
    "In short how a neural network learns:\n",
    "\n",
    "`Start with random numbers -> tensor operations -> update raandom numbers to try and make them of the data -> again -> again -> again`\n",
    "\n",
    "To reduce the randomness in neural networks and Pytorch we use 'random seed'\n"
   ]
  },
  {
   "cell_type": "code",
   "execution_count": 1,
   "metadata": {},
   "outputs": [],
   "source": [
    "import torch"
   ]
  },
  {
   "cell_type": "code",
   "execution_count": 4,
   "metadata": {},
   "outputs": [
    {
     "data": {
      "text/plain": [
       "tensor([[[0.4097, 0.8807, 0.8491],\n",
       "         [0.5336, 0.7642, 0.3411],\n",
       "         [0.9989, 0.1780, 0.7820]],\n",
       "\n",
       "        [[0.4922, 0.5958, 0.8730],\n",
       "         [0.9059, 0.5912, 0.1184],\n",
       "         [0.1076, 0.9214, 0.1259]]])"
      ]
     },
     "execution_count": 4,
     "metadata": {},
     "output_type": "execute_result"
    }
   ],
   "source": [
    "torch.rand(2,3,3)"
   ]
  },
  {
   "cell_type": "code",
   "execution_count": null,
   "metadata": {},
   "outputs": [],
   "source": [
    "#Create two random tensors\n",
    "randA = torch.rand(3,4)\n",
    "randB = torch.rand(3,4)\n",
    "\n",
    "print(randA)\n",
    "print(randB)\n",
    "print(randA == randB)"
   ]
  }
 ],
 "metadata": {
  "kernelspec": {
   "display_name": "base",
   "language": "python",
   "name": "python3"
  },
  "language_info": {
   "codemirror_mode": {
    "name": "ipython",
    "version": 3
   },
   "file_extension": ".py",
   "mimetype": "text/x-python",
   "name": "python",
   "nbconvert_exporter": "python",
   "pygments_lexer": "ipython3",
   "version": "3.11.7"
  }
 },
 "nbformat": 4,
 "nbformat_minor": 2
}

{
 "cells": [
  {
   "cell_type": "markdown",
   "metadata": {},
   "source": [
    "## Reproducibility (trying to take random out of random)\n",
    "\n",
    "In short how a neural network learns:\n",
    "\n",
    "`Start with random numbers -> tensor operations -> update raandom numbers to try and make them of the data -> again -> again -> again`\n",
    "\n",
    "To reduce the randomness in neural networks and Pytorch we use 'random seed'\n"
   ]
  },
  {
   "cell_type": "code",
   "execution_count": 1,
   "metadata": {},
   "outputs": [],
   "source": [
    "import torch"
   ]
  },
  {
   "cell_type": "code",
   "execution_count": 4,
   "metadata": {},
   "outputs": [
    {
     "data": {
      "text/plain": [
       "tensor([[[0.4097, 0.8807, 0.8491],\n",
       "         [0.5336, 0.7642, 0.3411],\n",
       "         [0.9989, 0.1780, 0.7820]],\n",
       "\n",
       "        [[0.4922, 0.5958, 0.8730],\n",
       "         [0.9059, 0.5912, 0.1184],\n",
       "         [0.1076, 0.9214, 0.1259]]])"
      ]
     },
     "execution_count": 4,
     "metadata": {},
     "output_type": "execute_result"
    }
   ],
   "source": [
    "torch.rand(2,3,3)"
   ]
  },
  {
   "cell_type": "code",
   "execution_count": 5,
   "metadata": {},
   "outputs": [
    {
     "name": "stdout",
     "output_type": "stream",
     "text": [
      "tensor([[0.4716, 0.8967, 0.4249, 0.9361],\n",
      "        [0.0559, 0.8862, 0.9013, 0.8551],\n",
      "        [0.3368, 0.3578, 0.1925, 0.2222]])\n",
      "tensor([[0.7593, 0.7111, 0.9896, 0.5811],\n",
      "        [0.6098, 0.2984, 0.6506, 0.6064],\n",
      "        [0.6301, 0.1582, 0.2536, 0.9868]])\n",
      "tensor([[False, False, False, False],\n",
      "        [False, False, False, False],\n",
      "        [False, False, False, False]])\n"
     ]
    }
   ],
   "source": [
    "#Create two random tensors\n",
    "randA = torch.rand(3,4)\n",
    "randB = torch.rand(3,4)\n",
    "\n",
    "print(randA)\n",
    "print(randB)\n",
    "print(randA == randB)"
   ]
  },
  {
   "cell_type": "code",
   "execution_count": 10,
   "metadata": {},
   "outputs": [
    {
     "name": "stdout",
     "output_type": "stream",
     "text": [
      "tensor([[0.8823, 0.9150, 0.3829, 0.9593],\n",
      "        [0.3904, 0.6009, 0.2566, 0.7936],\n",
      "        [0.9408, 0.1332, 0.9346, 0.5936]])\n",
      "tensor([[0.8823, 0.9150, 0.3829, 0.9593],\n",
      "        [0.3904, 0.6009, 0.2566, 0.7936],\n",
      "        [0.9408, 0.1332, 0.9346, 0.5936]])\n",
      "tensor([[True, True, True, True],\n",
      "        [True, True, True, True],\n",
      "        [True, True, True, True]])\n"
     ]
    }
   ],
   "source": [
    "#Lets make some random but reproducible tensors\n",
    "rand_seed = 42\n",
    "torch.manual_seed(rand_seed)\n",
    "randC = torch.rand(3,4)\n",
    "torch.manual_seed(rand_seed)\n",
    "randD = torch.rand(3,4)\n",
    "print(randC)\n",
    "print(randD)\n",
    "print(randC == randD)"
   ]
  }
 ],
 "metadata": {
  "kernelspec": {
   "display_name": "base",
   "language": "python",
   "name": "python3"
  },
  "language_info": {
   "codemirror_mode": {
    "name": "ipython",
    "version": 3
   },
   "file_extension": ".py",
   "mimetype": "text/x-python",
   "name": "python",
   "nbconvert_exporter": "python",
   "pygments_lexer": "ipython3",
   "version": "3.11.7"
  }
 },
 "nbformat": 4,
 "nbformat_minor": 2
}
